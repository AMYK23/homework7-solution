{
 "cells": [
  {
   "cell_type": "code",
   "execution_count": 1,
   "id": "5fdd2fff",
   "metadata": {},
   "outputs": [
    {
     "name": "stdout",
     "output_type": "stream",
     "text": [
      "Optimal L: 1.2909944727867015\n",
      "Optimal W: 1.290994455352175\n",
      "Optimal H: 1.2909944180130968\n",
      "Optimal Volume: 2.151657414467269\n",
      "Optimal Surface Area: 9.999999999713689\n"
     ]
    }
   ],
   "source": [
    "from scipy.optimize import minimize\n",
    "\n",
    "def objective_function(variables):\n",
    "    L, W, H = variables\n",
    "    volume = L * W * H\n",
    "    surface_area = 2 * (L * W + L * H + W * H)\n",
    "    return -volume\n",
    "\n",
    "def constraint_function(variables):\n",
    "    L, W, H = variables\n",
    "    surface_area = 2 * (L * W + L * H + W * H)\n",
    "    return 10 - surface_area\n",
    "\n",
    "# Initial guess for the dimensions of the box (L, W, H)\n",
    "initial_guess = [1, 1, 1]\n",
    "\n",
    "# Bounds for the dimensions (L, W, H). All dimensions should be positive.\n",
    "bounds = ((0, None), (0, None), (0, None))\n",
    "\n",
    "# Constraint: surface area should be less than or equal to 10.\n",
    "constraint = {'type': 'ineq', 'fun': constraint_function}\n",
    "\n",
    "# Run the optimization\n",
    "result = minimize(objective_function, initial_guess, method='SLSQP', bounds=bounds, constraints=constraint)\n",
    "\n",
    "# Extract the optimal values\n",
    "optimal_L, optimal_W, optimal_H = result.x\n",
    "optimal_volume = -result.fun\n",
    "optimal_surface_area = 2 * (optimal_L * optimal_W + optimal_L * optimal_H + optimal_W * optimal_H)\n",
    "\n",
    "# Print the results\n",
    "print(\"Optimal L:\", optimal_L)\n",
    "print(\"Optimal W:\", optimal_W)\n",
    "print(\"Optimal H:\", optimal_H)\n",
    "print(\"Optimal Volume:\", optimal_volume)\n",
    "print(\"Optimal Surface Area:\", optimal_surface_area)\n"
   ]
  },
  {
   "cell_type": "code",
   "execution_count": null,
   "id": "ddb7c39d",
   "metadata": {},
   "outputs": [],
   "source": []
  }
 ],
 "metadata": {
  "kernelspec": {
   "display_name": "Python 3 (ipykernel)",
   "language": "python",
   "name": "python3"
  },
  "language_info": {
   "codemirror_mode": {
    "name": "ipython",
    "version": 3
   },
   "file_extension": ".py",
   "mimetype": "text/x-python",
   "name": "python",
   "nbconvert_exporter": "python",
   "pygments_lexer": "ipython3",
   "version": "3.10.9"
  }
 },
 "nbformat": 4,
 "nbformat_minor": 5
}
